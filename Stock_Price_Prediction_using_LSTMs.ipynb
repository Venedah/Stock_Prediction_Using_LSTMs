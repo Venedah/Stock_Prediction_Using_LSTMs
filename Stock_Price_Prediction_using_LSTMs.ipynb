{
  "nbformat": 4,
  "nbformat_minor": 0,
  "metadata": {
    "colab": {
      "name": "Stock_Price_Prediction_using_LSTMs.ipynb",
      "provenance": [],
      "collapsed_sections": []
    },
    "kernelspec": {
      "name": "python3",
      "display_name": "Python 3"
    },
    "language_info": {
      "name": "python"
    }
  },
  "cells": [
    {
      "cell_type": "markdown",
      "source": [
        "![googlde1.png](data:image/png;base64,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)"
      ],
      "metadata": {
        "id": "oPRbGemcLocP"
      }
    },
    {
      "cell_type": "markdown",
      "source": [
        "# GOOGLE STOCK PRICE PREDICTION"
      ],
      "metadata": {
        "id": "OF3qxIUJVE6_"
      }
    },
    {
      "cell_type": "code",
      "source": [
        "import numpy as np\n",
        "import pandas as pd\n",
        "%matplotlib inline\n",
        "import matplotlib.pyplot as plt\n",
        "import matplotlib\n",
        "import seaborn as sns\n",
        "import tensorflow as tf"
      ],
      "metadata": {
        "id": "E8eSYkz3Lrf4"
      },
      "execution_count": 1,
      "outputs": []
    },
    {
      "cell_type": "markdown",
      "source": [
        "### We read the data and also calculate the computation time."
      ],
      "metadata": {
        "id": "wl6nC_qWL11P"
      }
    },
    {
      "cell_type": "code",
      "source": [
        "from google.colab import drive\n",
        "drive.mount('/content/drive')\n",
        "%time training_data = pd.read_csv('/content/drive/MyDrive/stock/Google_Stock_Price_Train.csv')\n",
        "\n",
        "# Checking the shape of the data\n",
        "training_data.shape"
      ],
      "metadata": {
        "colab": {
          "base_uri": "https://localhost:8080/"
        },
        "id": "1Gn8tshNL2kl",
        "outputId": "f9d79748-99ae-44fa-8d02-1d78ae12bcee"
      },
      "execution_count": 2,
      "outputs": [
        {
          "output_type": "stream",
          "name": "stdout",
          "text": [
            "Drive already mounted at /content/drive; to attempt to forcibly remount, call drive.mount(\"/content/drive\", force_remount=True).\n",
            "CPU times: user 10.9 ms, sys: 861 µs, total: 11.7 ms\n",
            "Wall time: 227 ms\n"
          ]
        },
        {
          "output_type": "execute_result",
          "data": {
            "text/plain": [
              "(1258, 6)"
            ]
          },
          "metadata": {},
          "execution_count": 2
        }
      ]
    },
    {
      "cell_type": "code",
      "source": [
        "training_data.shape"
      ],
      "metadata": {
        "colab": {
          "base_uri": "https://localhost:8080/"
        },
        "id": "OIXb32WYMi4H",
        "outputId": "5d8d83ad-6884-4575-83cf-cc362bb75024"
      },
      "execution_count": 3,
      "outputs": [
        {
          "output_type": "execute_result",
          "data": {
            "text/plain": [
              "(1258, 6)"
            ]
          },
          "metadata": {},
          "execution_count": 3
        }
      ]
    },
    {
      "cell_type": "code",
      "source": [
        "training_data.head()"
      ],
      "metadata": {
        "colab": {
          "base_uri": "https://localhost:8080/",
          "height": 206
        },
        "id": "tp8y8pxPNHDK",
        "outputId": "9608ff78-ced7-4243-fc0a-9617492feea2"
      },
      "execution_count": 4,
      "outputs": [
        {
          "output_type": "execute_result",
          "data": {
            "text/html": [
              "\n",
              "  <div id=\"df-0f8b4a45-2afc-4d42-b4f2-a6c3eebda8a2\">\n",
              "    <div class=\"colab-df-container\">\n",
              "      <div>\n",
              "<style scoped>\n",
              "    .dataframe tbody tr th:only-of-type {\n",
              "        vertical-align: middle;\n",
              "    }\n",
              "\n",
              "    .dataframe tbody tr th {\n",
              "        vertical-align: top;\n",
              "    }\n",
              "\n",
              "    .dataframe thead th {\n",
              "        text-align: right;\n",
              "    }\n",
              "</style>\n",
              "<table border=\"1\" class=\"dataframe\">\n",
              "  <thead>\n",
              "    <tr style=\"text-align: right;\">\n",
              "      <th></th>\n",
              "      <th>Date</th>\n",
              "      <th>Open</th>\n",
              "      <th>High</th>\n",
              "      <th>Low</th>\n",
              "      <th>Close</th>\n",
              "      <th>Volume</th>\n",
              "    </tr>\n",
              "  </thead>\n",
              "  <tbody>\n",
              "    <tr>\n",
              "      <th>0</th>\n",
              "      <td>1/3/2012</td>\n",
              "      <td>325.25</td>\n",
              "      <td>332.83</td>\n",
              "      <td>324.97</td>\n",
              "      <td>663.59</td>\n",
              "      <td>7,380,500</td>\n",
              "    </tr>\n",
              "    <tr>\n",
              "      <th>1</th>\n",
              "      <td>1/4/2012</td>\n",
              "      <td>331.27</td>\n",
              "      <td>333.87</td>\n",
              "      <td>329.08</td>\n",
              "      <td>666.45</td>\n",
              "      <td>5,749,400</td>\n",
              "    </tr>\n",
              "    <tr>\n",
              "      <th>2</th>\n",
              "      <td>1/5/2012</td>\n",
              "      <td>329.83</td>\n",
              "      <td>330.75</td>\n",
              "      <td>326.89</td>\n",
              "      <td>657.21</td>\n",
              "      <td>6,590,300</td>\n",
              "    </tr>\n",
              "    <tr>\n",
              "      <th>3</th>\n",
              "      <td>1/6/2012</td>\n",
              "      <td>328.34</td>\n",
              "      <td>328.77</td>\n",
              "      <td>323.68</td>\n",
              "      <td>648.24</td>\n",
              "      <td>5,405,900</td>\n",
              "    </tr>\n",
              "    <tr>\n",
              "      <th>4</th>\n",
              "      <td>1/9/2012</td>\n",
              "      <td>322.04</td>\n",
              "      <td>322.29</td>\n",
              "      <td>309.46</td>\n",
              "      <td>620.76</td>\n",
              "      <td>11,688,800</td>\n",
              "    </tr>\n",
              "  </tbody>\n",
              "</table>\n",
              "</div>\n",
              "      <button class=\"colab-df-convert\" onclick=\"convertToInteractive('df-0f8b4a45-2afc-4d42-b4f2-a6c3eebda8a2')\"\n",
              "              title=\"Convert this dataframe to an interactive table.\"\n",
              "              style=\"display:none;\">\n",
              "        \n",
              "  <svg xmlns=\"http://www.w3.org/2000/svg\" height=\"24px\"viewBox=\"0 0 24 24\"\n",
              "       width=\"24px\">\n",
              "    <path d=\"M0 0h24v24H0V0z\" fill=\"none\"/>\n",
              "    <path d=\"M18.56 5.44l.94 2.06.94-2.06 2.06-.94-2.06-.94-.94-2.06-.94 2.06-2.06.94zm-11 1L8.5 8.5l.94-2.06 2.06-.94-2.06-.94L8.5 2.5l-.94 2.06-2.06.94zm10 10l.94 2.06.94-2.06 2.06-.94-2.06-.94-.94-2.06-.94 2.06-2.06.94z\"/><path d=\"M17.41 7.96l-1.37-1.37c-.4-.4-.92-.59-1.43-.59-.52 0-1.04.2-1.43.59L10.3 9.45l-7.72 7.72c-.78.78-.78 2.05 0 2.83L4 21.41c.39.39.9.59 1.41.59.51 0 1.02-.2 1.41-.59l7.78-7.78 2.81-2.81c.8-.78.8-2.07 0-2.86zM5.41 20L4 18.59l7.72-7.72 1.47 1.35L5.41 20z\"/>\n",
              "  </svg>\n",
              "      </button>\n",
              "      \n",
              "  <style>\n",
              "    .colab-df-container {\n",
              "      display:flex;\n",
              "      flex-wrap:wrap;\n",
              "      gap: 12px;\n",
              "    }\n",
              "\n",
              "    .colab-df-convert {\n",
              "      background-color: #E8F0FE;\n",
              "      border: none;\n",
              "      border-radius: 50%;\n",
              "      cursor: pointer;\n",
              "      display: none;\n",
              "      fill: #1967D2;\n",
              "      height: 32px;\n",
              "      padding: 0 0 0 0;\n",
              "      width: 32px;\n",
              "    }\n",
              "\n",
              "    .colab-df-convert:hover {\n",
              "      background-color: #E2EBFA;\n",
              "      box-shadow: 0px 1px 2px rgba(60, 64, 67, 0.3), 0px 1px 3px 1px rgba(60, 64, 67, 0.15);\n",
              "      fill: #174EA6;\n",
              "    }\n",
              "\n",
              "    [theme=dark] .colab-df-convert {\n",
              "      background-color: #3B4455;\n",
              "      fill: #D2E3FC;\n",
              "    }\n",
              "\n",
              "    [theme=dark] .colab-df-convert:hover {\n",
              "      background-color: #434B5C;\n",
              "      box-shadow: 0px 1px 3px 1px rgba(0, 0, 0, 0.15);\n",
              "      filter: drop-shadow(0px 1px 2px rgba(0, 0, 0, 0.3));\n",
              "      fill: #FFFFFF;\n",
              "    }\n",
              "  </style>\n",
              "\n",
              "      <script>\n",
              "        const buttonEl =\n",
              "          document.querySelector('#df-0f8b4a45-2afc-4d42-b4f2-a6c3eebda8a2 button.colab-df-convert');\n",
              "        buttonEl.style.display =\n",
              "          google.colab.kernel.accessAllowed ? 'block' : 'none';\n",
              "\n",
              "        async function convertToInteractive(key) {\n",
              "          const element = document.querySelector('#df-0f8b4a45-2afc-4d42-b4f2-a6c3eebda8a2');\n",
              "          const dataTable =\n",
              "            await google.colab.kernel.invokeFunction('convertToInteractive',\n",
              "                                                     [key], {});\n",
              "          if (!dataTable) return;\n",
              "\n",
              "          const docLinkHtml = 'Like what you see? Visit the ' +\n",
              "            '<a target=\"_blank\" href=https://colab.research.google.com/notebooks/data_table.ipynb>data table notebook</a>'\n",
              "            + ' to learn more about interactive tables.';\n",
              "          element.innerHTML = '';\n",
              "          dataTable['output_type'] = 'display_data';\n",
              "          await google.colab.output.renderOutput(dataTable, element);\n",
              "          const docLink = document.createElement('div');\n",
              "          docLink.innerHTML = docLinkHtml;\n",
              "          element.appendChild(docLink);\n",
              "        }\n",
              "      </script>\n",
              "    </div>\n",
              "  </div>\n",
              "  "
            ],
            "text/plain": [
              "       Date    Open    High     Low   Close      Volume\n",
              "0  1/3/2012  325.25  332.83  324.97  663.59   7,380,500\n",
              "1  1/4/2012  331.27  333.87  329.08  666.45   5,749,400\n",
              "2  1/5/2012  329.83  330.75  326.89  657.21   6,590,300\n",
              "3  1/6/2012  328.34  328.77  323.68  648.24   5,405,900\n",
              "4  1/9/2012  322.04  322.29  309.46  620.76  11,688,800"
            ]
          },
          "metadata": {},
          "execution_count": 4
        }
      ]
    },
    {
      "cell_type": "markdown",
      "source": [
        "### Date: The date of recorded data.\n",
        "\n",
        "### Open: The price when stock market open.\n",
        "\n",
        "### High: The highest price point of the date.\n",
        "\n",
        "### Low: The lowest price point of the date.\n",
        "\n",
        "### Volume:  The total sale of stock on that date."
      ],
      "metadata": {
        "id": "nM8Nr3QZNh7W"
      }
    },
    {
      "cell_type": "code",
      "source": [
        "# Describe the data\n",
        "training_data.describe()"
      ],
      "metadata": {
        "colab": {
          "base_uri": "https://localhost:8080/",
          "height": 300
        },
        "id": "95UZJhRuNinl",
        "outputId": "e171b212-9f8a-4163-b19a-d51830f42e74"
      },
      "execution_count": 5,
      "outputs": [
        {
          "output_type": "execute_result",
          "data": {
            "text/html": [
              "\n",
              "  <div id=\"df-261918c9-8799-427a-9d55-eb501e006331\">\n",
              "    <div class=\"colab-df-container\">\n",
              "      <div>\n",
              "<style scoped>\n",
              "    .dataframe tbody tr th:only-of-type {\n",
              "        vertical-align: middle;\n",
              "    }\n",
              "\n",
              "    .dataframe tbody tr th {\n",
              "        vertical-align: top;\n",
              "    }\n",
              "\n",
              "    .dataframe thead th {\n",
              "        text-align: right;\n",
              "    }\n",
              "</style>\n",
              "<table border=\"1\" class=\"dataframe\">\n",
              "  <thead>\n",
              "    <tr style=\"text-align: right;\">\n",
              "      <th></th>\n",
              "      <th>Open</th>\n",
              "      <th>High</th>\n",
              "      <th>Low</th>\n",
              "    </tr>\n",
              "  </thead>\n",
              "  <tbody>\n",
              "    <tr>\n",
              "      <th>count</th>\n",
              "      <td>1258.000000</td>\n",
              "      <td>1258.000000</td>\n",
              "      <td>1258.000000</td>\n",
              "    </tr>\n",
              "    <tr>\n",
              "      <th>mean</th>\n",
              "      <td>533.709833</td>\n",
              "      <td>537.880223</td>\n",
              "      <td>529.007409</td>\n",
              "    </tr>\n",
              "    <tr>\n",
              "      <th>std</th>\n",
              "      <td>151.904442</td>\n",
              "      <td>153.008811</td>\n",
              "      <td>150.552807</td>\n",
              "    </tr>\n",
              "    <tr>\n",
              "      <th>min</th>\n",
              "      <td>279.120000</td>\n",
              "      <td>281.210000</td>\n",
              "      <td>277.220000</td>\n",
              "    </tr>\n",
              "    <tr>\n",
              "      <th>25%</th>\n",
              "      <td>404.115000</td>\n",
              "      <td>406.765000</td>\n",
              "      <td>401.765000</td>\n",
              "    </tr>\n",
              "    <tr>\n",
              "      <th>50%</th>\n",
              "      <td>537.470000</td>\n",
              "      <td>540.750000</td>\n",
              "      <td>532.990000</td>\n",
              "    </tr>\n",
              "    <tr>\n",
              "      <th>75%</th>\n",
              "      <td>654.922500</td>\n",
              "      <td>662.587500</td>\n",
              "      <td>644.800000</td>\n",
              "    </tr>\n",
              "    <tr>\n",
              "      <th>max</th>\n",
              "      <td>816.680000</td>\n",
              "      <td>816.680000</td>\n",
              "      <td>805.140000</td>\n",
              "    </tr>\n",
              "  </tbody>\n",
              "</table>\n",
              "</div>\n",
              "      <button class=\"colab-df-convert\" onclick=\"convertToInteractive('df-261918c9-8799-427a-9d55-eb501e006331')\"\n",
              "              title=\"Convert this dataframe to an interactive table.\"\n",
              "              style=\"display:none;\">\n",
              "        \n",
              "  <svg xmlns=\"http://www.w3.org/2000/svg\" height=\"24px\"viewBox=\"0 0 24 24\"\n",
              "       width=\"24px\">\n",
              "    <path d=\"M0 0h24v24H0V0z\" fill=\"none\"/>\n",
              "    <path d=\"M18.56 5.44l.94 2.06.94-2.06 2.06-.94-2.06-.94-.94-2.06-.94 2.06-2.06.94zm-11 1L8.5 8.5l.94-2.06 2.06-.94-2.06-.94L8.5 2.5l-.94 2.06-2.06.94zm10 10l.94 2.06.94-2.06 2.06-.94-2.06-.94-.94-2.06-.94 2.06-2.06.94z\"/><path d=\"M17.41 7.96l-1.37-1.37c-.4-.4-.92-.59-1.43-.59-.52 0-1.04.2-1.43.59L10.3 9.45l-7.72 7.72c-.78.78-.78 2.05 0 2.83L4 21.41c.39.39.9.59 1.41.59.51 0 1.02-.2 1.41-.59l7.78-7.78 2.81-2.81c.8-.78.8-2.07 0-2.86zM5.41 20L4 18.59l7.72-7.72 1.47 1.35L5.41 20z\"/>\n",
              "  </svg>\n",
              "      </button>\n",
              "      \n",
              "  <style>\n",
              "    .colab-df-container {\n",
              "      display:flex;\n",
              "      flex-wrap:wrap;\n",
              "      gap: 12px;\n",
              "    }\n",
              "\n",
              "    .colab-df-convert {\n",
              "      background-color: #E8F0FE;\n",
              "      border: none;\n",
              "      border-radius: 50%;\n",
              "      cursor: pointer;\n",
              "      display: none;\n",
              "      fill: #1967D2;\n",
              "      height: 32px;\n",
              "      padding: 0 0 0 0;\n",
              "      width: 32px;\n",
              "    }\n",
              "\n",
              "    .colab-df-convert:hover {\n",
              "      background-color: #E2EBFA;\n",
              "      box-shadow: 0px 1px 2px rgba(60, 64, 67, 0.3), 0px 1px 3px 1px rgba(60, 64, 67, 0.15);\n",
              "      fill: #174EA6;\n",
              "    }\n",
              "\n",
              "    [theme=dark] .colab-df-convert {\n",
              "      background-color: #3B4455;\n",
              "      fill: #D2E3FC;\n",
              "    }\n",
              "\n",
              "    [theme=dark] .colab-df-convert:hover {\n",
              "      background-color: #434B5C;\n",
              "      box-shadow: 0px 1px 3px 1px rgba(0, 0, 0, 0.15);\n",
              "      filter: drop-shadow(0px 1px 2px rgba(0, 0, 0, 0.3));\n",
              "      fill: #FFFFFF;\n",
              "    }\n",
              "  </style>\n",
              "\n",
              "      <script>\n",
              "        const buttonEl =\n",
              "          document.querySelector('#df-261918c9-8799-427a-9d55-eb501e006331 button.colab-df-convert');\n",
              "        buttonEl.style.display =\n",
              "          google.colab.kernel.accessAllowed ? 'block' : 'none';\n",
              "\n",
              "        async function convertToInteractive(key) {\n",
              "          const element = document.querySelector('#df-261918c9-8799-427a-9d55-eb501e006331');\n",
              "          const dataTable =\n",
              "            await google.colab.kernel.invokeFunction('convertToInteractive',\n",
              "                                                     [key], {});\n",
              "          if (!dataTable) return;\n",
              "\n",
              "          const docLinkHtml = 'Like what you see? Visit the ' +\n",
              "            '<a target=\"_blank\" href=https://colab.research.google.com/notebooks/data_table.ipynb>data table notebook</a>'\n",
              "            + ' to learn more about interactive tables.';\n",
              "          element.innerHTML = '';\n",
              "          dataTable['output_type'] = 'display_data';\n",
              "          await google.colab.output.renderOutput(dataTable, element);\n",
              "          const docLink = document.createElement('div');\n",
              "          docLink.innerHTML = docLinkHtml;\n",
              "          element.appendChild(docLink);\n",
              "        }\n",
              "      </script>\n",
              "    </div>\n",
              "  </div>\n",
              "  "
            ],
            "text/plain": [
              "              Open         High          Low\n",
              "count  1258.000000  1258.000000  1258.000000\n",
              "mean    533.709833   537.880223   529.007409\n",
              "std     151.904442   153.008811   150.552807\n",
              "min     279.120000   281.210000   277.220000\n",
              "25%     404.115000   406.765000   401.765000\n",
              "50%     537.470000   540.750000   532.990000\n",
              "75%     654.922500   662.587500   644.800000\n",
              "max     816.680000   816.680000   805.140000"
            ]
          },
          "metadata": {},
          "execution_count": 5
        }
      ]
    },
    {
      "cell_type": "code",
      "source": [
        "# We will work on the open stock price only and take out the 'Open' stock column.\n",
        "training_data = training_data.iloc[:, 1:2]\n",
        "\n",
        "# The training_data is in the form of dataframe.\n",
        "training_data.shape"
      ],
      "metadata": {
        "colab": {
          "base_uri": "https://localhost:8080/"
        },
        "id": "L6ifoPc8NmLW",
        "outputId": "c11e8698-e05c-4275-d369-f9567885d43c"
      },
      "execution_count": 6,
      "outputs": [
        {
          "output_type": "execute_result",
          "data": {
            "text/plain": [
              "(1258, 1)"
            ]
          },
          "metadata": {},
          "execution_count": 6
        }
      ]
    },
    {
      "cell_type": "code",
      "source": [
        "# We check the head of the data.\n",
        "training_data.head()"
      ],
      "metadata": {
        "colab": {
          "base_uri": "https://localhost:8080/",
          "height": 206
        },
        "id": "DowZhGB_NoTk",
        "outputId": "e9156bd7-a98a-44bd-a7ed-646a3478f57f"
      },
      "execution_count": 7,
      "outputs": [
        {
          "output_type": "execute_result",
          "data": {
            "text/html": [
              "\n",
              "  <div id=\"df-f8befa3d-9bf1-47ae-abf2-c85cc5f0ee26\">\n",
              "    <div class=\"colab-df-container\">\n",
              "      <div>\n",
              "<style scoped>\n",
              "    .dataframe tbody tr th:only-of-type {\n",
              "        vertical-align: middle;\n",
              "    }\n",
              "\n",
              "    .dataframe tbody tr th {\n",
              "        vertical-align: top;\n",
              "    }\n",
              "\n",
              "    .dataframe thead th {\n",
              "        text-align: right;\n",
              "    }\n",
              "</style>\n",
              "<table border=\"1\" class=\"dataframe\">\n",
              "  <thead>\n",
              "    <tr style=\"text-align: right;\">\n",
              "      <th></th>\n",
              "      <th>Open</th>\n",
              "    </tr>\n",
              "  </thead>\n",
              "  <tbody>\n",
              "    <tr>\n",
              "      <th>0</th>\n",
              "      <td>325.25</td>\n",
              "    </tr>\n",
              "    <tr>\n",
              "      <th>1</th>\n",
              "      <td>331.27</td>\n",
              "    </tr>\n",
              "    <tr>\n",
              "      <th>2</th>\n",
              "      <td>329.83</td>\n",
              "    </tr>\n",
              "    <tr>\n",
              "      <th>3</th>\n",
              "      <td>328.34</td>\n",
              "    </tr>\n",
              "    <tr>\n",
              "      <th>4</th>\n",
              "      <td>322.04</td>\n",
              "    </tr>\n",
              "  </tbody>\n",
              "</table>\n",
              "</div>\n",
              "      <button class=\"colab-df-convert\" onclick=\"convertToInteractive('df-f8befa3d-9bf1-47ae-abf2-c85cc5f0ee26')\"\n",
              "              title=\"Convert this dataframe to an interactive table.\"\n",
              "              style=\"display:none;\">\n",
              "        \n",
              "  <svg xmlns=\"http://www.w3.org/2000/svg\" height=\"24px\"viewBox=\"0 0 24 24\"\n",
              "       width=\"24px\">\n",
              "    <path d=\"M0 0h24v24H0V0z\" fill=\"none\"/>\n",
              "    <path d=\"M18.56 5.44l.94 2.06.94-2.06 2.06-.94-2.06-.94-.94-2.06-.94 2.06-2.06.94zm-11 1L8.5 8.5l.94-2.06 2.06-.94-2.06-.94L8.5 2.5l-.94 2.06-2.06.94zm10 10l.94 2.06.94-2.06 2.06-.94-2.06-.94-.94-2.06-.94 2.06-2.06.94z\"/><path d=\"M17.41 7.96l-1.37-1.37c-.4-.4-.92-.59-1.43-.59-.52 0-1.04.2-1.43.59L10.3 9.45l-7.72 7.72c-.78.78-.78 2.05 0 2.83L4 21.41c.39.39.9.59 1.41.59.51 0 1.02-.2 1.41-.59l7.78-7.78 2.81-2.81c.8-.78.8-2.07 0-2.86zM5.41 20L4 18.59l7.72-7.72 1.47 1.35L5.41 20z\"/>\n",
              "  </svg>\n",
              "      </button>\n",
              "      \n",
              "  <style>\n",
              "    .colab-df-container {\n",
              "      display:flex;\n",
              "      flex-wrap:wrap;\n",
              "      gap: 12px;\n",
              "    }\n",
              "\n",
              "    .colab-df-convert {\n",
              "      background-color: #E8F0FE;\n",
              "      border: none;\n",
              "      border-radius: 50%;\n",
              "      cursor: pointer;\n",
              "      display: none;\n",
              "      fill: #1967D2;\n",
              "      height: 32px;\n",
              "      padding: 0 0 0 0;\n",
              "      width: 32px;\n",
              "    }\n",
              "\n",
              "    .colab-df-convert:hover {\n",
              "      background-color: #E2EBFA;\n",
              "      box-shadow: 0px 1px 2px rgba(60, 64, 67, 0.3), 0px 1px 3px 1px rgba(60, 64, 67, 0.15);\n",
              "      fill: #174EA6;\n",
              "    }\n",
              "\n",
              "    [theme=dark] .colab-df-convert {\n",
              "      background-color: #3B4455;\n",
              "      fill: #D2E3FC;\n",
              "    }\n",
              "\n",
              "    [theme=dark] .colab-df-convert:hover {\n",
              "      background-color: #434B5C;\n",
              "      box-shadow: 0px 1px 3px 1px rgba(0, 0, 0, 0.15);\n",
              "      filter: drop-shadow(0px 1px 2px rgba(0, 0, 0, 0.3));\n",
              "      fill: #FFFFFF;\n",
              "    }\n",
              "  </style>\n",
              "\n",
              "      <script>\n",
              "        const buttonEl =\n",
              "          document.querySelector('#df-f8befa3d-9bf1-47ae-abf2-c85cc5f0ee26 button.colab-df-convert');\n",
              "        buttonEl.style.display =\n",
              "          google.colab.kernel.accessAllowed ? 'block' : 'none';\n",
              "\n",
              "        async function convertToInteractive(key) {\n",
              "          const element = document.querySelector('#df-f8befa3d-9bf1-47ae-abf2-c85cc5f0ee26');\n",
              "          const dataTable =\n",
              "            await google.colab.kernel.invokeFunction('convertToInteractive',\n",
              "                                                     [key], {});\n",
              "          if (!dataTable) return;\n",
              "\n",
              "          const docLinkHtml = 'Like what you see? Visit the ' +\n",
              "            '<a target=\"_blank\" href=https://colab.research.google.com/notebooks/data_table.ipynb>data table notebook</a>'\n",
              "            + ' to learn more about interactive tables.';\n",
              "          element.innerHTML = '';\n",
              "          dataTable['output_type'] = 'display_data';\n",
              "          await google.colab.output.renderOutput(dataTable, element);\n",
              "          const docLink = document.createElement('div');\n",
              "          docLink.innerHTML = docLinkHtml;\n",
              "          element.appendChild(docLink);\n",
              "        }\n",
              "      </script>\n",
              "    </div>\n",
              "  </div>\n",
              "  "
            ],
            "text/plain": [
              "     Open\n",
              "0  325.25\n",
              "1  331.27\n",
              "2  329.83\n",
              "3  328.34\n",
              "4  322.04"
            ]
          },
          "metadata": {},
          "execution_count": 7
        }
      ]
    },
    {
      "cell_type": "code",
      "source": [
        "# We visualize the google stock price using matplotlib\n",
        "plt.figure(figsize=(10,5))\n",
        "plt.plot(training_data, color='blue')\n",
        "plt.ylabel('Stock Price')\n",
        "plt.title('Google Stock Price')\n",
        "plt.xlabel('Time')\n",
        "plt.show();"
      ],
      "metadata": {
        "colab": {
          "base_uri": "https://localhost:8080/",
          "height": 350
        },
        "id": "oniTNGsuNrjR",
        "outputId": "43cc4aa6-682c-4ce6-e9e6-0d4120a0b04f"
      },
      "execution_count": 8,
      "outputs": [
        {
          "output_type": "display_data",
          "data": {
            "image/png": "[encoded data removed]",
            "text/plain": [
              "<Figure size 720x360 with 1 Axes>"
            ]
          },
          "metadata": {
            "needs_background": "light"
          }
        }
      ]
    },
    {
      "cell_type": "code",
      "source": [
        "# Normalize the training data between [0,1]\n",
        "from sklearn.preprocessing import MinMaxScaler\n",
        "\n",
        "# The fit method, when applied to the training dataset, learns the model parameters (for example, mean and standard deviation). \n",
        "# We then need to apply the transform method on the training dataset to get the transformed (scaled) training dataset.\n",
        "# We could also perform both of this step in one step by applying fit_transform on the training dataset.\n",
        "\n",
        "mm = MinMaxScaler(feature_range = (0, 1))\n",
        "training_data_scaled = mm.fit_transform(training_data)\n",
        "training_data_scaled.shape"
      ],
      "metadata": {
        "colab": {
          "base_uri": "https://localhost:8080/"
        },
        "id": "fuErUzxfNunN",
        "outputId": "6c51054f-782d-49d9-c50e-10e62fe0e33e"
      },
      "execution_count": 9,
      "outputs": [
        {
          "output_type": "execute_result",
          "data": {
            "text/plain": [
              "(1258, 1)"
            ]
          },
          "metadata": {},
          "execution_count": 9
        }
      ]
    },
    {
      "cell_type": "markdown",
      "source": [
        "### As you can see that the Y-axis is completely changed.\n",
        "### It is scaled in between 0 and 1 because, all the values are in different weights and in order to have a good prediction, scaling has to be made.\n",
        "### Remember that the scaling can be done on to floating point values."
      ],
      "metadata": {
        "id": "1gMmltAfOMmY"
      }
    },
    {
      "cell_type": "code",
      "source": [
        "plt.figure(figsize=(10,5))\n",
        "plt.plot(training_data_scaled, color='orange');\n",
        "plt.title('Google Stock Price Prediction')\n",
        "plt.xlabel('Time')\n",
        "plt.ylabel('Google Stock Price')\n",
        "plt.show();"
      ],
      "metadata": {
        "colab": {
          "base_uri": "https://localhost:8080/",
          "height": 350
        },
        "id": "SgboFkdrOOYB",
        "outputId": "427e0512-d34c-46b0-9638-974b29981ba1"
      },
      "execution_count": 10,
      "outputs": [
        {
          "output_type": "display_data",
          "data": {
            "image/png": "[encoded data removed]",
            "text/plain": [
              "<Figure size 720x360 with 1 Axes>"
            ]
          },
          "metadata": {
            "needs_background": "light"
          }
        }
      ]
    },
    {
      "cell_type": "markdown",
      "source": [
        " ## Feature Scaling of the Model"
      ],
      "metadata": {
        "id": "VMdsiz2fOXR3"
      }
    },
    {
      "cell_type": "code",
      "source": [
        "# If you know how to consider the past data for the number of time stamps needed for RNN, We get the inputs and outputs directly.\n",
        "x_train = training_data_scaled[59:1257]\n",
        "y_train = training_data_scaled[60:1258]\n",
        "print(x_train.shape)\n",
        "print(y_train.shape)\n",
        "\n",
        "# Also recall that x_train and y_train must have the same values to be able to process RNN."
      ],
      "metadata": {
        "colab": {
          "base_uri": "https://localhost:8080/"
        },
        "id": "p5QBKkxLOYV9",
        "outputId": "f147444b-75cb-4900-c220-06ba19cc6855"
      },
      "execution_count": 11,
      "outputs": [
        {
          "output_type": "stream",
          "name": "stdout",
          "text": [
            "(1198, 1)\n",
            "(1198, 1)\n"
          ]
        }
      ]
    },
    {
      "cell_type": "code",
      "source": [
        "# Reshaping the Model\n",
        "x_train = np.reshape(x_train, (1198,1,1))\n",
        "print(x_train.shape)"
      ],
      "metadata": {
        "colab": {
          "base_uri": "https://localhost:8080/"
        },
        "id": "PLXYL7v5Ob62",
        "outputId": "1b1f38b2-4d4f-4cc3-c4d1-c48d43066eb8"
      },
      "execution_count": 12,
      "outputs": [
        {
          "output_type": "stream",
          "name": "stdout",
          "text": [
            "(1198, 1, 1)\n"
          ]
        }
      ]
    },
    {
      "cell_type": "code",
      "source": [
        "import keras\n",
        "from keras.models import Sequential\n",
        "\n",
        "#This helps to create mode 1, layer by layer.\n",
        "from keras.layers import Dense, LSTM, Dropout\n"
      ],
      "metadata": {
        "id": "2BzFv58MOeMT"
      },
      "execution_count": 13,
      "outputs": []
    },
    {
      "cell_type": "markdown",
      "source": [
        "\n",
        "### The dense layer is fully connected layer, so all the neurons in a layer are connected to those in a next layer.\n",
        "### The dropout drops connections of neurons from the dense layer to prevent overfitting. \n",
        "### The neurons whose value falls under 0, will be removed.\n",
        "### LSTM gates to control the memorizing process."
      ],
      "metadata": {
        "id": "KCmGA8KpOnrY"
      }
    },
    {
      "cell_type": "markdown",
      "source": [
        "### TensorFlow Backend"
      ],
      "metadata": {
        "id": "zy9VSUzNOtz3"
      }
    },
    {
      "cell_type": "code",
      "source": [
        "# We create a model usign LSTM, Dropout and Dense Layer as an output layer.\n",
        "# We initialize the RNN.\n",
        "regressor = Sequential()\n",
        "regressor.add(LSTM(units = 50, return_sequences = True, \n",
        "                   input_shape = (x_train.shape[1],1)))\n",
        "regressor.add(Dropout(0.2))"
      ],
      "metadata": {
        "id": "MZ5W4lp1OvfQ"
      },
      "execution_count": 14,
      "outputs": []
    },
    {
      "cell_type": "code",
      "source": [
        "# We add the second hidden layer\n",
        "regressor.add(LSTM(units = 50, return_sequences = True))\n",
        "regressor.add(Dropout(0.2))"
      ],
      "metadata": {
        "id": "DlTcjpWOOzsu"
      },
      "execution_count": 15,
      "outputs": []
    },
    {
      "cell_type": "code",
      "source": [
        "# We add the third hidden layer\n",
        "regressor.add(LSTM(units = 50, return_sequences = True))\n",
        "regressor.add(Dropout(0.2))"
      ],
      "metadata": {
        "id": "FxCklQRDO2FG"
      },
      "execution_count": 16,
      "outputs": []
    },
    {
      "cell_type": "code",
      "source": [
        "# We add the fourth hidden layer\n",
        "regressor.add(LSTM(units = 50))\n",
        "regressor.add(Dropout(0.2))"
      ],
      "metadata": {
        "id": "g7cFJ9VAO5mF"
      },
      "execution_count": 17,
      "outputs": []
    },
    {
      "cell_type": "code",
      "source": [
        "# We add a dense layer to get the final output.\n",
        "# The input of the n-1 layer will be the output for n layer.\n",
        "regressor.add(Dense(units = 1))"
      ],
      "metadata": {
        "id": "Bx9IxABEO8No"
      },
      "execution_count": 18,
      "outputs": []
    },
    {
      "cell_type": "code",
      "source": [
        "regressor.compile(optimizer = 'adam', loss = 'mean_squared_error')"
      ],
      "metadata": {
        "id": "YTV6wGlHPCvt"
      },
      "execution_count": 19,
      "outputs": []
    },
    {
      "cell_type": "markdown",
      "source": [
        "### Recall that, ADAM optimizatiion algorithm is used and the mean squared error loss function is optimized.\n",
        "### This will be the same metric that we will use to evaluate the performance of the model to find the global minimum error."
      ],
      "metadata": {
        "id": "3Jn0ZVcFPQs4"
      }
    },
    {
      "cell_type": "code",
      "source": [
        "# We train the model.\n",
        "regressor.fit(x_train,y_train, epochs=100, batch_size = 32)"
      ],
      "metadata": {
        "colab": {
          "base_uri": "https://localhost:8080/"
        },
        "id": "aRoXM1y-PRZr",
        "outputId": "1926c693-b7b8-4f92-f664-c587b582a7c4"
      },
      "execution_count": 20,
      "outputs": [
        {
          "output_type": "stream",
          "name": "stdout",
          "text": [
            "Epoch 1/100\n",
            "38/38 [==============================] - 7s 5ms/step - loss: 0.2309\n",
            "Epoch 2/100\n",
            "38/38 [==============================] - 0s 6ms/step - loss: 0.0533\n",
            "Epoch 3/100\n",
            "38/38 [==============================] - 0s 6ms/step - loss: 0.0262\n",
            "Epoch 4/100\n",
            "38/38 [==============================] - 0s 6ms/step - loss: 0.0120\n",
            "Epoch 5/100\n",
            "38/38 [==============================] - 0s 6ms/step - loss: 0.0093\n",
            "Epoch 6/100\n",
            "38/38 [==============================] - 0s 6ms/step - loss: 0.0081\n",
            "Epoch 7/100\n",
            "38/38 [==============================] - 0s 6ms/step - loss: 0.0082\n",
            "Epoch 8/100\n",
            "38/38 [==============================] - 0s 6ms/step - loss: 0.0071\n",
            "Epoch 9/100\n",
            "38/38 [==============================] - 0s 6ms/step - loss: 0.0057\n",
            "Epoch 10/100\n",
            "38/38 [==============================] - 0s 6ms/step - loss: 0.0051\n",
            "Epoch 11/100\n",
            "38/38 [==============================] - 0s 6ms/step - loss: 0.0044\n",
            "Epoch 12/100\n",
            "38/38 [==============================] - 0s 6ms/step - loss: 0.0046\n",
            "Epoch 13/100\n",
            "38/38 [==============================] - 0s 6ms/step - loss: 0.0046\n",
            "Epoch 14/100\n",
            "38/38 [==============================] - 0s 6ms/step - loss: 0.0039\n",
            "Epoch 15/100\n",
            "38/38 [==============================] - 0s 6ms/step - loss: 0.0040\n",
            "Epoch 16/100\n",
            "38/38 [==============================] - 0s 6ms/step - loss: 0.0038\n",
            "Epoch 17/100\n",
            "38/38 [==============================] - 0s 6ms/step - loss: 0.0034\n",
            "Epoch 18/100\n",
            "38/38 [==============================] - 0s 6ms/step - loss: 0.0035\n",
            "Epoch 19/100\n",
            "38/38 [==============================] - 0s 6ms/step - loss: 0.0036\n",
            "Epoch 20/100\n",
            "38/38 [==============================] - 0s 6ms/step - loss: 0.0032\n",
            "Epoch 21/100\n",
            "38/38 [==============================] - 0s 6ms/step - loss: 0.0030\n",
            "Epoch 22/100\n",
            "38/38 [==============================] - 0s 6ms/step - loss: 0.0035\n",
            "Epoch 23/100\n",
            "38/38 [==============================] - 0s 6ms/step - loss: 0.0033\n",
            "Epoch 24/100\n",
            "38/38 [==============================] - 0s 6ms/step - loss: 0.0030\n",
            "Epoch 25/100\n",
            "38/38 [==============================] - 0s 6ms/step - loss: 0.0030\n",
            "Epoch 26/100\n",
            "38/38 [==============================] - 0s 6ms/step - loss: 0.0028\n",
            "Epoch 27/100\n",
            "38/38 [==============================] - 0s 6ms/step - loss: 0.0026\n",
            "Epoch 28/100\n",
            "38/38 [==============================] - 0s 6ms/step - loss: 0.0028\n",
            "Epoch 29/100\n",
            "38/38 [==============================] - 0s 6ms/step - loss: 0.0029\n",
            "Epoch 30/100\n",
            "38/38 [==============================] - 0s 6ms/step - loss: 0.0030\n",
            "Epoch 31/100\n",
            "38/38 [==============================] - 0s 6ms/step - loss: 0.0028\n",
            "Epoch 32/100\n",
            "38/38 [==============================] - 0s 6ms/step - loss: 0.0029\n",
            "Epoch 33/100\n",
            "38/38 [==============================] - 0s 6ms/step - loss: 0.0026\n",
            "Epoch 34/100\n",
            "38/38 [==============================] - 0s 6ms/step - loss: 0.0027\n",
            "Epoch 35/100\n",
            "38/38 [==============================] - 0s 6ms/step - loss: 0.0028\n",
            "Epoch 36/100\n",
            "38/38 [==============================] - 0s 6ms/step - loss: 0.0029\n",
            "Epoch 37/100\n",
            "38/38 [==============================] - 0s 6ms/step - loss: 0.0024\n",
            "Epoch 38/100\n",
            "38/38 [==============================] - 0s 6ms/step - loss: 0.0025\n",
            "Epoch 39/100\n",
            "38/38 [==============================] - 0s 6ms/step - loss: 0.0025\n",
            "Epoch 40/100\n",
            "38/38 [==============================] - 0s 6ms/step - loss: 0.0025\n",
            "Epoch 41/100\n",
            "38/38 [==============================] - 0s 6ms/step - loss: 0.0024\n",
            "Epoch 42/100\n",
            "38/38 [==============================] - 0s 6ms/step - loss: 0.0028\n",
            "Epoch 43/100\n",
            "38/38 [==============================] - 0s 6ms/step - loss: 0.0023\n",
            "Epoch 44/100\n",
            "38/38 [==============================] - 0s 6ms/step - loss: 0.0024\n",
            "Epoch 45/100\n",
            "38/38 [==============================] - 0s 6ms/step - loss: 0.0022\n",
            "Epoch 46/100\n",
            "38/38 [==============================] - 0s 6ms/step - loss: 0.0026\n",
            "Epoch 47/100\n",
            "38/38 [==============================] - 0s 6ms/step - loss: 0.0020\n",
            "Epoch 48/100\n",
            "38/38 [==============================] - 0s 6ms/step - loss: 0.0023\n",
            "Epoch 49/100\n",
            "38/38 [==============================] - 0s 6ms/step - loss: 0.0021\n",
            "Epoch 50/100\n",
            "38/38 [==============================] - 0s 6ms/step - loss: 0.0023\n",
            "Epoch 51/100\n",
            "38/38 [==============================] - 0s 6ms/step - loss: 0.0022\n",
            "Epoch 52/100\n",
            "38/38 [==============================] - 0s 6ms/step - loss: 0.0023\n",
            "Epoch 53/100\n",
            "38/38 [==============================] - 0s 6ms/step - loss: 0.0021\n",
            "Epoch 54/100\n",
            "38/38 [==============================] - 0s 6ms/step - loss: 0.0022\n",
            "Epoch 55/100\n",
            "38/38 [==============================] - 0s 6ms/step - loss: 0.0019\n",
            "Epoch 56/100\n",
            "38/38 [==============================] - 0s 6ms/step - loss: 0.0024\n",
            "Epoch 57/100\n",
            "38/38 [==============================] - 0s 6ms/step - loss: 0.0022\n",
            "Epoch 58/100\n",
            "38/38 [==============================] - 0s 6ms/step - loss: 0.0025\n",
            "Epoch 59/100\n",
            "38/38 [==============================] - 0s 5ms/step - loss: 0.0027\n",
            "Epoch 60/100\n",
            "38/38 [==============================] - 0s 6ms/step - loss: 0.0023\n",
            "Epoch 61/100\n",
            "38/38 [==============================] - 0s 6ms/step - loss: 0.0023\n",
            "Epoch 62/100\n",
            "38/38 [==============================] - 0s 6ms/step - loss: 0.0022\n",
            "Epoch 63/100\n",
            "38/38 [==============================] - 0s 6ms/step - loss: 0.0022\n",
            "Epoch 64/100\n",
            "38/38 [==============================] - 0s 6ms/step - loss: 0.0019\n",
            "Epoch 65/100\n",
            "38/38 [==============================] - 0s 6ms/step - loss: 0.0022\n",
            "Epoch 66/100\n",
            "38/38 [==============================] - 0s 6ms/step - loss: 0.0021\n",
            "Epoch 67/100\n",
            "38/38 [==============================] - 0s 6ms/step - loss: 0.0020\n",
            "Epoch 68/100\n",
            "38/38 [==============================] - 0s 6ms/step - loss: 0.0021\n",
            "Epoch 69/100\n",
            "38/38 [==============================] - 0s 6ms/step - loss: 0.0020\n",
            "Epoch 70/100\n",
            "38/38 [==============================] - 0s 6ms/step - loss: 0.0022\n",
            "Epoch 71/100\n",
            "38/38 [==============================] - 0s 6ms/step - loss: 0.0022\n",
            "Epoch 72/100\n",
            "38/38 [==============================] - 0s 6ms/step - loss: 0.0019\n",
            "Epoch 73/100\n",
            "38/38 [==============================] - 0s 6ms/step - loss: 0.0019\n",
            "Epoch 74/100\n",
            "38/38 [==============================] - 0s 6ms/step - loss: 0.0023\n",
            "Epoch 75/100\n",
            "38/38 [==============================] - 0s 6ms/step - loss: 0.0020\n",
            "Epoch 76/100\n",
            "38/38 [==============================] - 0s 6ms/step - loss: 0.0022\n",
            "Epoch 77/100\n",
            "38/38 [==============================] - 0s 6ms/step - loss: 0.0019\n",
            "Epoch 78/100\n",
            "38/38 [==============================] - 0s 6ms/step - loss: 0.0020\n",
            "Epoch 79/100\n",
            "38/38 [==============================] - 0s 6ms/step - loss: 0.0019\n",
            "Epoch 80/100\n",
            "38/38 [==============================] - 0s 6ms/step - loss: 0.0020\n",
            "Epoch 81/100\n",
            "38/38 [==============================] - 0s 6ms/step - loss: 0.0021\n",
            "Epoch 82/100\n",
            "38/38 [==============================] - 0s 6ms/step - loss: 0.0021\n",
            "Epoch 83/100\n",
            "38/38 [==============================] - 0s 6ms/step - loss: 0.0020\n",
            "Epoch 84/100\n",
            "38/38 [==============================] - 0s 6ms/step - loss: 0.0020\n",
            "Epoch 85/100\n",
            "38/38 [==============================] - 0s 6ms/step - loss: 0.0021\n",
            "Epoch 86/100\n",
            "38/38 [==============================] - 0s 6ms/step - loss: 0.0021\n",
            "Epoch 87/100\n",
            "38/38 [==============================] - 0s 6ms/step - loss: 0.0020\n",
            "Epoch 88/100\n",
            "38/38 [==============================] - 0s 6ms/step - loss: 0.0019\n",
            "Epoch 89/100\n",
            "38/38 [==============================] - 0s 6ms/step - loss: 0.0020\n",
            "Epoch 90/100\n",
            "38/38 [==============================] - 0s 6ms/step - loss: 0.0019\n",
            "Epoch 91/100\n",
            "38/38 [==============================] - 0s 6ms/step - loss: 0.0020\n",
            "Epoch 92/100\n",
            "38/38 [==============================] - 0s 6ms/step - loss: 0.0021\n",
            "Epoch 93/100\n",
            "38/38 [==============================] - 0s 6ms/step - loss: 0.0019\n",
            "Epoch 94/100\n",
            "38/38 [==============================] - 0s 6ms/step - loss: 0.0022\n",
            "Epoch 95/100\n",
            "38/38 [==============================] - 0s 6ms/step - loss: 0.0019\n",
            "Epoch 96/100\n",
            "38/38 [==============================] - 0s 6ms/step - loss: 0.0019\n",
            "Epoch 97/100\n",
            "38/38 [==============================] - 0s 6ms/step - loss: 0.0018\n",
            "Epoch 98/100\n",
            "38/38 [==============================] - 0s 6ms/step - loss: 0.0019\n",
            "Epoch 99/100\n",
            "38/38 [==============================] - 0s 6ms/step - loss: 0.0020\n",
            "Epoch 100/100\n",
            "38/38 [==============================] - 0s 6ms/step - loss: 0.0018\n"
          ]
        },
        {
          "output_type": "execute_result",
          "data": {
            "text/plain": [
              "<keras.callbacks.History at 0x7f62fc73ced0>"
            ]
          },
          "metadata": {},
          "execution_count": 20
        }
      ]
    },
    {
      "cell_type": "markdown",
      "source": [
        "# We take the test set and check the accuracy."
      ],
      "metadata": {
        "id": "xyqkuJZvPxYY"
      }
    },
    {
      "cell_type": "code",
      "source": [
        "from google.colab import drive\n",
        "drive.mount('/content/drive')\n",
        "%time test_data = pd.read_csv('/content/drive/MyDrive/stock/Google_Stock_Price_Test.csv')\n"
      ],
      "metadata": {
        "colab": {
          "base_uri": "https://localhost:8080/"
        },
        "id": "jriohjQHP4B8",
        "outputId": "52d1b393-ab37-47ea-afe8-c41b68206543"
      },
      "execution_count": 21,
      "outputs": [
        {
          "output_type": "stream",
          "name": "stdout",
          "text": [
            "Drive already mounted at /content/drive; to attempt to forcibly remount, call drive.mount(\"/content/drive\", force_remount=True).\n",
            "CPU times: user 3.74 ms, sys: 42 µs, total: 3.78 ms\n",
            "Wall time: 156 ms\n"
          ]
        }
      ]
    },
    {
      "cell_type": "code",
      "source": [
        "test_stock = test_data.iloc[:,1:2]\n",
        "len(test_stock)"
      ],
      "metadata": {
        "colab": {
          "base_uri": "https://localhost:8080/"
        },
        "id": "L1hRdHPtQKhM",
        "outputId": "c857e405-78b4-438a-b50b-3d6235f3c374"
      },
      "execution_count": 22,
      "outputs": [
        {
          "output_type": "execute_result",
          "data": {
            "text/plain": [
              "20"
            ]
          },
          "metadata": {},
          "execution_count": 22
        }
      ]
    },
    {
      "cell_type": "code",
      "source": [
        "input_value = test_stock\n",
        "input_value = mm.transform(input_value)\n",
        "\n",
        "# We perform the same process, converting a 2D array to 3D.\n",
        "input_value = np.reshape(input_value, (20, 1, 1))"
      ],
      "metadata": {
        "id": "deoxtnHXQ8VN"
      },
      "execution_count": 23,
      "outputs": []
    },
    {
      "cell_type": "code",
      "source": [
        "prediction = regressor.predict(input_value)\n",
        "prediction = mm.inverse_transform(prediction)"
      ],
      "metadata": {
        "id": "Yy9feIyjRDvb"
      },
      "execution_count": 24,
      "outputs": []
    },
    {
      "cell_type": "markdown",
      "source": [
        "# We visualize the results."
      ],
      "metadata": {
        "id": "Lg00ToCSRgvx"
      }
    },
    {
      "cell_type": "code",
      "source": [
        "plt.rcParams['figure.figsize'] = (15, 8)\n",
        "\n",
        "plt.plot(test_stock, color = 'red', label = 'Real  Stock ')\n",
        "plt.plot(prediction, color = 'blue', label = 'Predicted  Stock ')\n",
        "plt.title('Final Stock Prediction')\n",
        "plt.xlabel('Time')\n",
        "plt.ylabel('Google Stock Price')\n",
        "plt.legend()\n",
        "plt.show()"
      ],
      "metadata": {
        "colab": {
          "base_uri": "https://localhost:8080/",
          "height": 513
        },
        "id": "8LVwr2A-RGns",
        "outputId": "34d69197-e139-46d2-ee15-10f4356389d9"
      },
      "execution_count": 34,
      "outputs": [
        {
          "output_type": "display_data",
          "data": {
            "image/png": "[encoded data removed]",
            "text/plain": [
              "<Figure size 1080x576 with 1 Axes>"
            ]
          },
          "metadata": {
            "needs_background": "light"
          }
        }
      ]
    },
    {
      "cell_type": "code",
      "source": [
        ""
      ],
      "metadata": {
        "id": "gXHSjQenpt8y"
      },
      "execution_count": null,
      "outputs": []
    }
  ]
}